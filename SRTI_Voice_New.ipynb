{
  "nbformat": 4,
  "nbformat_minor": 0,
  "metadata": {
    "colab": {
      "name": "SRTI_Voice_New.ipynb",
      "provenance": [],
      "toc_visible": true
    },
    "kernelspec": {
      "name": "python3",
      "display_name": "Python 3"
    },
    "accelerator": "GPU"
  },
  "cells": [
    {
      "cell_type": "markdown",
      "metadata": {
        "id": "L6powZkq1yzi",
        "colab_type": "text"
      },
      "source": [
        "# Sentiment in voice prediction model \n",
        "\n",
        "Use CNN to predict emotion of voice (see github for more info: https://github.com/marcogdepinto/Emotion-Classification-Ravdess) \n",
        "\n",
        "\n",
        "**License information**\n",
        "\n",
        "“The Ryerson Audio-Visual Database of Emotional Speech and Song (RAVDESS)” by Livingstone & Russo is licensed under CC BY-NA-SC 4.0.\n",
        "\n",
        "**File naming convention**\n",
        "\n",
        "Each of the 7356 RAVDESS files has a unique filename. The filename consists of a 7-part numerical identifier (e.g., 02-01-06-01-02-01-12.mp4). These identifiers define the stimulus characteristics:\n",
        "\n",
        "**Filename identifiers**\n",
        "\n",
        "* Modality (01 = full-AV, 02 = video-only, 03 = audio-only).\n",
        "* Vocal channel (01 = speech, 02 = song).\n",
        "* Emotion (01 = neutral, 02 = calm, 03 = happy, 04 = sad, 05 = angry, 06 = fearful, 07 = disgust, 08 = surprised).\n",
        "* Emotional intensity (01 = normal, 02 = strong). NOTE: There is no strong intensity for the ‘neutral’ emotion.\n",
        "* Statement (01 = “Kids are talking by the door”, 02 = “Dogs are sitting by the door”).\n",
        "* Repetition (01 = 1st repetition, 02 = 2nd repetition).\n",
        "* Actor (01 to 24. Odd numbered actors are male, even numbered actors are female).\n",
        " \n",
        "**Filename example: 02-01-06-01-02-01-12.mp4**\n",
        "\n",
        "* Video-only (02)\n",
        "* Speech (01)\n",
        "* Fearful (06)\n",
        "* Normal intensity (01)\n",
        "* Statement “dogs” (02)\n",
        "* 1st Repetition (01)\n",
        "* 12th Actor (12)\n",
        "* Female, as the actor ID number is even.\n",
        "\n",
        "**The baseline CNN built here comes from the GitHub repo listed above*"
      ]
    },
    {
      "cell_type": "code",
      "metadata": {
        "id": "JAz75Q6B5QEY",
        "colab_type": "code",
        "colab": {}
      },
      "source": [
        ""
      ],
      "execution_count": 0,
      "outputs": []
    },
    {
      "cell_type": "markdown",
      "metadata": {
        "id": "FrhPTj4a-jc3",
        "colab_type": "toc"
      },
      "source": [
        ">[Sentiment in voice prediction model](#scrollTo=L6powZkq1yzi)\n",
        "\n",
        ">>[Exploratory Data Analysis](#scrollTo=sr7gjH3V52T9)\n",
        "\n",
        ">>[Obtain Librosa array & MFCSS](#scrollTo=o0MPWKBS7ZIa)\n",
        "\n",
        ">>[Load Librosa & MFCSS data](#scrollTo=w9E-ou3F8wg_)\n",
        "\n",
        ">>[Build Neural Net](#scrollTo=x4PVOl-S36iE)\n",
        "\n",
        ">>[Plot Accuracy & Loss](#scrollTo=oyKT6cBgASzo)\n",
        "\n",
        ">>[Predictions & Classification Report](#scrollTo=LolSeaa6BV4N)\n",
        "\n",
        ">>[Save Model & Weights](#scrollTo=WrAR9moqBfkG)\n",
        "\n",
        ">>[BEGIN HERE: Import trained model](#scrollTo=lp9AD5xb_wv-)\n",
        "\n",
        ">>[Predictions](#scrollTo=M298ay4SBqLq)\n",
        "\n"
      ]
    },
    {
      "cell_type": "code",
      "metadata": {
        "id": "O2G-P9qZ0r1K",
        "colab_type": "code",
        "outputId": "d084ce9c-e92d-41ab-c399-5b708f4a67d1",
        "colab": {
          "base_uri": "https://localhost:8080/",
          "height": 122
        }
      },
      "source": [
        "#mount drive\n",
        "from google.colab import drive\n",
        "drive.mount('/content/drive')"
      ],
      "execution_count": 1,
      "outputs": [
        {
          "output_type": "stream",
          "text": [
            "Go to this URL in a browser: https://accounts.google.com/o/oauth2/auth?client_id=947318989803-6bn6qk8qdgf4n4g3pfee6491hc0brc4i.apps.googleusercontent.com&redirect_uri=urn%3Aietf%3Awg%3Aoauth%3A2.0%3Aoob&scope=email%20https%3A%2F%2Fwww.googleapis.com%2Fauth%2Fdocs.test%20https%3A%2F%2Fwww.googleapis.com%2Fauth%2Fdrive%20https%3A%2F%2Fwww.googleapis.com%2Fauth%2Fdrive.photos.readonly%20https%3A%2F%2Fwww.googleapis.com%2Fauth%2Fpeopleapi.readonly&response_type=code\n",
            "\n",
            "Enter your authorization code:\n",
            "··········\n",
            "Mounted at /content/drive\n"
          ],
          "name": "stdout"
        }
      ]
    },
    {
      "cell_type": "code",
      "metadata": {
        "id": "uLGYAk8GxI7N",
        "colab_type": "code",
        "colab": {
          "base_uri": "https://localhost:8080/",
          "height": 292
        },
        "outputId": "76c044d3-7e4c-49d0-efeb-748f2cc67b78"
      },
      "source": [
        "#immports\n",
        "import librosa\n",
        "from librosa import display\n",
        "import os\n",
        "import pandas as pd\n",
        "import glob \n",
        "import joblib\n",
        "% pylab inline\n",
        "\n",
        "#model imports\n",
        "from sklearn.model_selection import train_test_split\n",
        "from sklearn.metrics import classification_report\n",
        "import keras\n",
        "import numpy as np\n",
        "import matplotlib.pyplot as plt\n",
        "import tensorflow as tf\n",
        "from keras.preprocessing import sequence\n",
        "from keras.models import Sequential\n",
        "from keras.layers import Dense, Embedding\n",
        "from keras.utils import to_categorical\n",
        "from keras.layers import Input, Flatten, Dropout, Activation\n",
        "from keras.layers import Conv1D, MaxPooling1D\n",
        "from keras.models import Model\n",
        "from keras.callbacks import ModelCheckpoint\n",
        "\n",
        "#install librosa \n",
        "!pip install librosa"
      ],
      "execution_count": 3,
      "outputs": [
        {
          "output_type": "stream",
          "text": [
            "Populating the interactive namespace from numpy and matplotlib\n"
          ],
          "name": "stdout"
        },
        {
          "output_type": "stream",
          "text": [
            "/usr/local/lib/python3.6/dist-packages/IPython/core/magics/pylab.py:161: UserWarning: pylab import has clobbered these variables: ['display']\n",
            "`%matplotlib` prevents importing * from pylab and numpy\n",
            "  \"\\n`%matplotlib` prevents importing * from pylab and numpy\"\n"
          ],
          "name": "stderr"
        },
        {
          "output_type": "stream",
          "text": [
            "Requirement already satisfied: librosa in /usr/local/lib/python3.6/dist-packages (0.6.3)\n",
            "Requirement already satisfied: six>=1.3 in /usr/local/lib/python3.6/dist-packages (from librosa) (1.12.0)\n",
            "Requirement already satisfied: decorator>=3.0.0 in /usr/local/lib/python3.6/dist-packages (from librosa) (4.4.1)\n",
            "Requirement already satisfied: resampy>=0.2.0 in /usr/local/lib/python3.6/dist-packages (from librosa) (0.2.2)\n",
            "Requirement already satisfied: numpy>=1.8.0 in /usr/local/lib/python3.6/dist-packages (from librosa) (1.17.3)\n",
            "Requirement already satisfied: audioread>=2.0.0 in /usr/local/lib/python3.6/dist-packages (from librosa) (2.1.8)\n",
            "Requirement already satisfied: numba>=0.38.0 in /usr/local/lib/python3.6/dist-packages (from librosa) (0.40.1)\n",
            "Requirement already satisfied: scipy>=1.0.0 in /usr/local/lib/python3.6/dist-packages (from librosa) (1.3.1)\n",
            "Requirement already satisfied: joblib>=0.12 in /usr/local/lib/python3.6/dist-packages (from librosa) (0.14.0)\n",
            "Requirement already satisfied: scikit-learn!=0.19.0,>=0.14.0 in /usr/local/lib/python3.6/dist-packages (from librosa) (0.21.3)\n",
            "Requirement already satisfied: llvmlite>=0.25.0dev0 in /usr/local/lib/python3.6/dist-packages (from numba>=0.38.0->librosa) (0.30.0)\n"
          ],
          "name": "stdout"
        }
      ]
    },
    {
      "cell_type": "code",
      "metadata": {
        "id": "Y0kOYBs75z6_",
        "colab_type": "code",
        "colab": {}
      },
      "source": [
        ""
      ],
      "execution_count": 0,
      "outputs": []
    },
    {
      "cell_type": "markdown",
      "metadata": {
        "id": "sr7gjH3V52T9",
        "colab_type": "text"
      },
      "source": [
        "## Exploratory Data Analysis\n",
        "\n",
        "Visualize the wave plot of different sentiments and gender"
      ]
    },
    {
      "cell_type": "code",
      "metadata": {
        "id": "GeCcmWe2xUM-",
        "colab_type": "code",
        "outputId": "833ba38c-cb5b-48f1-8666-66af4ec4ecb7",
        "colab": {
          "base_uri": "https://localhost:8080/",
          "height": 350
        }
      },
      "source": [
        "data, sampling_rate = librosa.load('/content/drive/My Drive/Ravdess/03-01-01-01-01-01-01.wav')\n",
        "print(\" \")\n",
        "print('neutral, male Actor 1')\n",
        "plt.figure(figsize=(12, 4))\n",
        "librosa.display.waveplot(data, sr=sampling_rate)"
      ],
      "execution_count": 0,
      "outputs": [
        {
          "output_type": "stream",
          "text": [
            " \n",
            "neutral Actor 1\n"
          ],
          "name": "stdout"
        },
        {
          "output_type": "execute_result",
          "data": {
            "text/plain": [
              "<matplotlib.collections.PolyCollection at 0x7f165dde6eb8>"
            ]
          },
          "metadata": {
            "tags": []
          },
          "execution_count": 43
        },
        {
          "output_type": "display_data",
          "data": {
            "image/png": "[encoded data removed]",
            "text/plain": [
              "<Figure size 864x288 with 1 Axes>"
            ]
          },
          "metadata": {
            "tags": []
          }
        }
      ]
    },
    {
      "cell_type": "code",
      "metadata": {
        "id": "wybKzRuxbuiZ",
        "colab_type": "code",
        "outputId": "0a9fb7cf-9be3-4704-cc0c-db7e69c2aa65",
        "colab": {
          "base_uri": "https://localhost:8080/",
          "height": 350
        }
      },
      "source": [
        "data, sampling_rate = librosa.load('/content/drive/My Drive/Ravdess/03-01-01-01-01-01-02.wav')\n",
        "print(\" \")\n",
        "print('neutral, female Actor 2')\n",
        "plt.figure(figsize=(12, 4))\n",
        "librosa.display.waveplot(data, sr=sampling_rate)"
      ],
      "execution_count": 0,
      "outputs": [
        {
          "output_type": "stream",
          "text": [
            " \n",
            "neutral Actor 2\n"
          ],
          "name": "stdout"
        },
        {
          "output_type": "execute_result",
          "data": {
            "text/plain": [
              "<matplotlib.collections.PolyCollection at 0x7f165ddbdef0>"
            ]
          },
          "metadata": {
            "tags": []
          },
          "execution_count": 44
        },
        {
          "output_type": "display_data",
          "data": {
            "image/png": "[encoded data removed]",
            "text/plain": [
              "<Figure size 864x288 with 1 Axes>"
            ]
          },
          "metadata": {
            "tags": []
          }
        }
      ]
    },
    {
      "cell_type": "code",
      "metadata": {
        "id": "7Qg-fLIHb0xt",
        "colab_type": "code",
        "outputId": "bf34fc00-a8ce-496b-9056-1296d392c3cc",
        "colab": {
          "base_uri": "https://localhost:8080/",
          "height": 350
        }
      },
      "source": [
        "data, sampling_rate = librosa.load('/content/drive/My Drive/Ravdess/03-01-01-01-01-01-03.wav')\n",
        "print(\" \")\n",
        "print('neutral, male Actor 3')\n",
        "plt.figure(figsize=(12, 4))\n",
        "librosa.display.waveplot(data, sr=sampling_rate)"
      ],
      "execution_count": 0,
      "outputs": [
        {
          "output_type": "stream",
          "text": [
            " \n",
            "neutral Actor 3\n"
          ],
          "name": "stdout"
        },
        {
          "output_type": "execute_result",
          "data": {
            "text/plain": [
              "<matplotlib.collections.PolyCollection at 0x7f165dd286d8>"
            ]
          },
          "metadata": {
            "tags": []
          },
          "execution_count": 45
        },
        {
          "output_type": "display_data",
          "data": {
            "image/png": "[encoded data removed]",
            "text/plain": [
              "<Figure size 864x288 with 1 Axes>"
            ]
          },
          "metadata": {
            "tags": []
          }
        }
      ]
    },
    {
      "cell_type": "code",
      "metadata": {
        "id": "V5P0Zi7ib5he",
        "colab_type": "code",
        "outputId": "d0a84ae0-73f3-4d40-dcf2-53ca948d520e",
        "colab": {
          "base_uri": "https://localhost:8080/",
          "height": 350
        }
      },
      "source": [
        "data, sampling_rate = librosa.load('/content/drive/My Drive/Ravdess/03-01-01-01-01-01-04.wav')\n",
        "print(\" \")\n",
        "print('neutral, female Actor 4')\n",
        "plt.figure(figsize=(12, 4))\n",
        "librosa.display.waveplot(data, sr=sampling_rate)"
      ],
      "execution_count": 0,
      "outputs": [
        {
          "output_type": "stream",
          "text": [
            " \n",
            "neutral Actor 4\n"
          ],
          "name": "stdout"
        },
        {
          "output_type": "execute_result",
          "data": {
            "text/plain": [
              "<matplotlib.collections.PolyCollection at 0x7f1660baef98>"
            ]
          },
          "metadata": {
            "tags": []
          },
          "execution_count": 46
        },
        {
          "output_type": "display_data",
          "data": {
            "image/png": "[encoded data removed]",
            "text/plain": [
              "<Figure size 864x288 with 1 Axes>"
            ]
          },
          "metadata": {
            "tags": []
          }
        }
      ]
    },
    {
      "cell_type": "code",
      "metadata": {
        "id": "LxhhrUyAZyqg",
        "colab_type": "code",
        "outputId": "3a4ef63e-cb91-4e6a-d273-05e86f6579f9",
        "colab": {
          "base_uri": "https://localhost:8080/",
          "height": 333
        }
      },
      "source": [
        "data, sampling_rate = librosa.load('/content/drive/My Drive/Ravdess/03-01-05-01-01-01-01.wav')\n",
        "print('angry, male actor 1')\n",
        "plt.figure(figsize=(12, 4))\n",
        "librosa.display.waveplot(data, sr=sampling_rate)"
      ],
      "execution_count": 0,
      "outputs": [
        {
          "output_type": "stream",
          "text": [
            "angry actor 1\n"
          ],
          "name": "stdout"
        },
        {
          "output_type": "execute_result",
          "data": {
            "text/plain": [
              "<matplotlib.collections.PolyCollection at 0x7f165dcc3a58>"
            ]
          },
          "metadata": {
            "tags": []
          },
          "execution_count": 47
        },
        {
          "output_type": "display_data",
          "data": {
            "image/png": "[encoded data removed]",
            "text/plain": [
              "<Figure size 864x288 with 1 Axes>"
            ]
          },
          "metadata": {
            "tags": []
          }
        }
      ]
    },
    {
      "cell_type": "code",
      "metadata": {
        "id": "ksHESAcOcKTU",
        "colab_type": "code",
        "outputId": "ba932a03-7eaa-4481-8e78-a6b67b980ad6",
        "colab": {
          "base_uri": "https://localhost:8080/",
          "height": 333
        }
      },
      "source": [
        "data, sampling_rate = librosa.load('/content/drive/My Drive/Ravdess/03-01-05-01-01-01-02.wav')\n",
        "print('angry, female actor 2')\n",
        "plt.figure(figsize=(12, 4))\n",
        "librosa.display.waveplot(data, sr=sampling_rate)"
      ],
      "execution_count": 0,
      "outputs": [
        {
          "output_type": "stream",
          "text": [
            "angry actor 2\n"
          ],
          "name": "stdout"
        },
        {
          "output_type": "execute_result",
          "data": {
            "text/plain": [
              "<matplotlib.collections.PolyCollection at 0x7f165dc2a588>"
            ]
          },
          "metadata": {
            "tags": []
          },
          "execution_count": 48
        },
        {
          "output_type": "display_data",
          "data": {
            "image/png": "[encoded data removed]",
            "text/plain": [
              "<Figure size 864x288 with 1 Axes>"
            ]
          },
          "metadata": {
            "tags": []
          }
        }
      ]
    },
    {
      "cell_type": "code",
      "metadata": {
        "id": "UipaK3bDcRgo",
        "colab_type": "code",
        "outputId": "04d425af-15d0-4ff5-ebcd-bf5db1551dc2",
        "colab": {
          "base_uri": "https://localhost:8080/",
          "height": 333
        }
      },
      "source": [
        "data, sampling_rate = librosa.load('/content/drive/My Drive/Ravdess/03-01-05-01-01-01-03.wav')\n",
        "print('angry, male actor 3')\n",
        "plt.figure(figsize=(12, 4))\n",
        "librosa.display.waveplot(data, sr=sampling_rate)"
      ],
      "execution_count": 0,
      "outputs": [
        {
          "output_type": "stream",
          "text": [
            "angry actor 3\n"
          ],
          "name": "stdout"
        },
        {
          "output_type": "execute_result",
          "data": {
            "text/plain": [
              "<matplotlib.collections.PolyCollection at 0x7f165dc04f98>"
            ]
          },
          "metadata": {
            "tags": []
          },
          "execution_count": 49
        },
        {
          "output_type": "display_data",
          "data": {
            "image/png": "[encoded data removed]",
            "text/plain": [
              "<Figure size 864x288 with 1 Axes>"
            ]
          },
          "metadata": {
            "tags": []
          }
        }
      ]
    },
    {
      "cell_type": "code",
      "metadata": {
        "id": "D8D1VWwDcb5B",
        "colab_type": "code",
        "outputId": "dc438eca-502f-47b5-a463-5153a3bb226e",
        "colab": {
          "base_uri": "https://localhost:8080/",
          "height": 333
        }
      },
      "source": [
        "data, sampling_rate = librosa.load('/content/drive/My Drive/Ravdess/03-01-05-01-01-01-04.wav')\n",
        "print('angry, female actor 4')\n",
        "plt.figure(figsize=(12, 4))\n",
        "librosa.display.waveplot(data, sr=sampling_rate)"
      ],
      "execution_count": 0,
      "outputs": [
        {
          "output_type": "stream",
          "text": [
            "angry actor 4\n"
          ],
          "name": "stdout"
        },
        {
          "output_type": "execute_result",
          "data": {
            "text/plain": [
              "<matplotlib.collections.PolyCollection at 0x7f165dad7cc0>"
            ]
          },
          "metadata": {
            "tags": []
          },
          "execution_count": 51
        },
        {
          "output_type": "display_data",
          "data": {
            "image/png": "[encoded data removed]",
            "text/plain": [
              "<Figure size 864x288 with 1 Axes>"
            ]
          },
          "metadata": {
            "tags": []
          }
        }
      ]
    },
    {
      "cell_type": "code",
      "metadata": {
        "id": "e2VUTi5JaC3i",
        "colab_type": "code",
        "outputId": "726e9489-fcad-4e97-8ce2-5b3bb5ded00a",
        "colab": {
          "base_uri": "https://localhost:8080/",
          "height": 333
        }
      },
      "source": [
        "data, sampling_rate = librosa.load('/content/drive/My Drive/Ravdess/03-01-03-01-01-01-01.wav')\n",
        "print('happy, male actor 1')\n",
        "plt.figure(figsize=(12, 4))\n",
        "librosa.display.waveplot(data, sr=sampling_rate)"
      ],
      "execution_count": 0,
      "outputs": [
        {
          "output_type": "stream",
          "text": [
            "happy actor 1\n"
          ],
          "name": "stdout"
        },
        {
          "output_type": "execute_result",
          "data": {
            "text/plain": [
              "<matplotlib.collections.PolyCollection at 0x7f165dac8278>"
            ]
          },
          "metadata": {
            "tags": []
          },
          "execution_count": 52
        },
        {
          "output_type": "display_data",
          "data": {
            "image/png": "[encoded data removed]",
            "text/plain": [
              "<Figure size 864x288 with 1 Axes>"
            ]
          },
          "metadata": {
            "tags": []
          }
        }
      ]
    },
    {
      "cell_type": "code",
      "metadata": {
        "id": "Fkj5mPFgcvMu",
        "colab_type": "code",
        "outputId": "dbdbce76-fb5b-46df-9949-d94d6ebd1680",
        "colab": {
          "base_uri": "https://localhost:8080/",
          "height": 333
        }
      },
      "source": [
        "data, sampling_rate = librosa.load('/content/drive/My Drive/Ravdess/03-01-03-01-01-01-02.wav')\n",
        "print('happy, female actor 2')\n",
        "plt.figure(figsize=(12, 4))\n",
        "librosa.display.waveplot(data, sr=sampling_rate)"
      ],
      "execution_count": 0,
      "outputs": [
        {
          "output_type": "stream",
          "text": [
            "happy actor 2\n"
          ],
          "name": "stdout"
        },
        {
          "output_type": "execute_result",
          "data": {
            "text/plain": [
              "<matplotlib.collections.PolyCollection at 0x7f165da28860>"
            ]
          },
          "metadata": {
            "tags": []
          },
          "execution_count": 53
        },
        {
          "output_type": "display_data",
          "data": {
            "image/png": "[encoded data removed]",
            "text/plain": [
              "<Figure size 864x288 with 1 Axes>"
            ]
          },
          "metadata": {
            "tags": []
          }
        }
      ]
    },
    {
      "cell_type": "code",
      "metadata": {
        "id": "ZoAeZctwczvK",
        "colab_type": "code",
        "outputId": "299a2ad5-fad7-4c27-814c-f657153a3900",
        "colab": {
          "base_uri": "https://localhost:8080/",
          "height": 333
        }
      },
      "source": [
        "data, sampling_rate = librosa.load('/content/drive/My Drive/Ravdess/03-01-03-01-01-01-03.wav')\n",
        "print('happy, female actor 3')\n",
        "plt.figure(figsize=(12, 4))\n",
        "librosa.display.waveplot(data, sr=sampling_rate)"
      ],
      "execution_count": 0,
      "outputs": [
        {
          "output_type": "stream",
          "text": [
            "happy actor 3\n"
          ],
          "name": "stdout"
        },
        {
          "output_type": "execute_result",
          "data": {
            "text/plain": [
              "<matplotlib.collections.PolyCollection at 0x7f165d991390>"
            ]
          },
          "metadata": {
            "tags": []
          },
          "execution_count": 54
        },
        {
          "output_type": "display_data",
          "data": {
            "image/png": "[encoded data removed]",
            "text/plain": [
              "<Figure size 864x288 with 1 Axes>"
            ]
          },
          "metadata": {
            "tags": []
          }
        }
      ]
    },
    {
      "cell_type": "code",
      "metadata": {
        "id": "JkbMc408c52t",
        "colab_type": "code",
        "outputId": "fd1fcef0-c3ba-482c-bc14-d6af289ff4ae",
        "colab": {
          "base_uri": "https://localhost:8080/",
          "height": 333
        }
      },
      "source": [
        "data, sampling_rate = librosa.load('/content/drive/My Drive/Ravdess/03-01-03-01-01-01-04.wav')\n",
        "print('happy, female actor 4')\n",
        "plt.figure(figsize=(12, 4))\n",
        "librosa.display.waveplot(data, sr=sampling_rate)"
      ],
      "execution_count": 0,
      "outputs": [
        {
          "output_type": "stream",
          "text": [
            "happy actor 4\n"
          ],
          "name": "stdout"
        },
        {
          "output_type": "execute_result",
          "data": {
            "text/plain": [
              "<matplotlib.collections.PolyCollection at 0x7f165d978908>"
            ]
          },
          "metadata": {
            "tags": []
          },
          "execution_count": 55
        },
        {
          "output_type": "display_data",
          "data": {
            "image/png": "[encoded data removed]",
            "text/plain": [
              "<Figure size 864x288 with 1 Axes>"
            ]
          },
          "metadata": {
            "tags": []
          }
        }
      ]
    },
    {
      "cell_type": "markdown",
      "metadata": {
        "id": "o0MPWKBS7ZIa",
        "colab_type": "text"
      },
      "source": [
        "## Obtain Librosa array & MFCSS \n",
        "Save this data in joblib files for later use. This way, we do not need to retrain every time we want to use the data/model."
      ]
    },
    {
      "cell_type": "code",
      "metadata": {
        "id": "awINBaXx1FpB",
        "colab_type": "code",
        "outputId": "87c2776c-9e94-46a1-8df3-9740c569a3fc",
        "colab": {
          "base_uri": "https://localhost:8080/",
          "height": 34
        }
      },
      "source": [
        "# import time\n",
        "\n",
        "# path = '/content/drive/My Drive/Ravdess/'\n",
        "# lst = []\n",
        "\n",
        "# start_time = time.time()\n",
        "\n",
        "# for subdir, dirs, files in os.walk(path):\n",
        "#   for file in files:\n",
        "#       try:\n",
        "#         #Load librosa array, obtain mfcss, store the file and the mcss information in a new array\n",
        "#         X, sample_rate = librosa.load(os.path.join(subdir,file), res_type='kaiser_fast')\n",
        "#         mfccs = np.mean(librosa.feature.mfcc(y=X, sr=sample_rate, n_mfcc=40).T,axis=0) \n",
        "#         # The instruction below converts the labels (from 1 to 8) to a series from 0 to 7\n",
        "#         # This is because our predictor needs to start from 0 otherwise it will try to predict also 0.\n",
        "#         file = int(file[7:8]) - 1 \n",
        "#         arr = mfccs, file\n",
        "#         lst.append(arr)\n",
        "#       # If the file is not valid, skip it\n",
        "#       except ValueError:\n",
        "#         continue\n",
        "\n",
        "# print(\"--- Data loaded. Loading time: %s seconds ---\" % (time.time() - start_time))"
      ],
      "execution_count": 0,
      "outputs": [
        {
          "output_type": "stream",
          "text": [
            "--- Data loaded. Loading time: 1007.9660403728485 seconds ---\n"
          ],
          "name": "stdout"
        }
      ]
    },
    {
      "cell_type": "code",
      "metadata": {
        "id": "lXBv-Pzj1Nd1",
        "colab_type": "code",
        "colab": {}
      },
      "source": [
        "# # Creating X and y: zip makes a list of all the first elements, and a list of all the second elements.\n",
        "# X,y = zip(*lst)"
      ],
      "execution_count": 0,
      "outputs": []
    },
    {
      "cell_type": "code",
      "metadata": {
        "id": "Xat3Mu1M1flB",
        "colab_type": "code",
        "outputId": "a6b6f07e-7107-43e3-cafb-5cac5b66e08b",
        "colab": {
          "base_uri": "https://localhost:8080/",
          "height": 34
        }
      },
      "source": [
        "# import numpy as np \n",
        "# X=np.asarray(X)\n",
        "# y=np.asarray(y)\n",
        "# X.shape, y.shape"
      ],
      "execution_count": 0,
      "outputs": [
        {
          "output_type": "execute_result",
          "data": {
            "text/plain": [
              "((1440, 40), (1440,))"
            ]
          },
          "metadata": {
            "tags": []
          },
          "execution_count": 62
        }
      ]
    },
    {
      "cell_type": "code",
      "metadata": {
        "id": "mcrhS7m-1lqT",
        "colab_type": "code",
        "colab": {}
      },
      "source": [
        "#saving joblib files to not load them again with the loop above\n",
        "\n",
        "# X_name = 'X.joblib'\n",
        "# y_name = 'y.joblib'\n",
        "# save_dir = '/content/drive/My Drive/Ravdess_model'\n",
        "\n",
        "# savedX = joblib.dump(X, os.path.join(save_dir, X_name))\n",
        "# savedy = joblib.dump(y, os.path.join(save_dir, y_name))"
      ],
      "execution_count": 0,
      "outputs": []
    },
    {
      "cell_type": "markdown",
      "metadata": {
        "id": "w9E-ou3F8wg_",
        "colab_type": "text"
      },
      "source": [
        "## Load Librosa & MFCSS data"
      ]
    },
    {
      "cell_type": "code",
      "metadata": {
        "id": "GkZ5ZOy78vQm",
        "colab_type": "code",
        "colab": {}
      },
      "source": [
        "#loading saved models \n",
        "X=joblib.load('/content/drive/My Drive/Ravdess_model/X.joblib')\n",
        "y=joblib.load('/content/drive/My Drive/Ravdess_model/y.joblib')"
      ],
      "execution_count": 0,
      "outputs": []
    },
    {
      "cell_type": "markdown",
      "metadata": {
        "id": "x4PVOl-S36iE",
        "colab_type": "text"
      },
      "source": [
        "## Build Neural Net\n",
        "\n",
        "Get train/test data, need to expand dims for NN\n"
      ]
    },
    {
      "cell_type": "code",
      "metadata": {
        "id": "aN8AU1Md31jC",
        "colab_type": "code",
        "colab": {}
      },
      "source": [
        "#train/test split\n",
        "X_train, X_test, y_train, y_test = train_test_split(X, y, test_size=0.33, random_state=42)"
      ],
      "execution_count": 0,
      "outputs": []
    },
    {
      "cell_type": "code",
      "metadata": {
        "id": "eyH0fmCf4Qmf",
        "colab_type": "code",
        "colab": {}
      },
      "source": [
        "#expand dims\n",
        "x_traincnn = np.expand_dims(X_train, axis=2)\n",
        "x_testcnn = np.expand_dims(X_test, axis=2)"
      ],
      "execution_count": 0,
      "outputs": []
    },
    {
      "cell_type": "code",
      "metadata": {
        "id": "YEsCzLqH472G",
        "colab_type": "code",
        "outputId": "aa691c20-4c70-435f-cca1-db0eeab78c69",
        "colab": {
          "base_uri": "https://localhost:8080/",
          "height": 34
        }
      },
      "source": [
        "#check shape\n",
        "x_traincnn.shape, x_testcnn.shape"
      ],
      "execution_count": 7,
      "outputs": [
        {
          "output_type": "execute_result",
          "data": {
            "text/plain": [
              "((3315, 40, 1), (1633, 40, 1))"
            ]
          },
          "metadata": {
            "tags": []
          },
          "execution_count": 7
        }
      ]
    },
    {
      "cell_type": "code",
      "metadata": {
        "id": "K1s74kry5Qsp",
        "colab_type": "code",
        "colab": {}
      },
      "source": [
        "#build model \n",
        "model = Sequential()\n",
        "\n",
        "model.add(Conv1D(128, 5,padding='same',\n",
        "                 input_shape=(40,1)))\n",
        "model.add(Activation('relu'))\n",
        "model.add(Dropout(0.1))\n",
        "model.add(MaxPooling1D(pool_size=(8)))\n",
        "model.add(Conv1D(128, 5,padding='same',))\n",
        "model.add(Activation('relu'))\n",
        "model.add(Dropout(0.1))\n",
        "model.add(Flatten())\n",
        "model.add(Dense(8))\n",
        "model.add(Activation('softmax'))\n",
        "opt = keras.optimizers.rmsprop(lr=0.00005, rho=0.9, epsilon=None, decay=0.0)"
      ],
      "execution_count": 0,
      "outputs": []
    },
    {
      "cell_type": "code",
      "metadata": {
        "id": "iNjpYJ4I58Dd",
        "colab_type": "code",
        "outputId": "97c414b0-c639-4aff-9b11-4d728da0986c",
        "colab": {
          "base_uri": "https://localhost:8080/",
          "height": 493
        }
      },
      "source": [
        "model.summary()"
      ],
      "execution_count": 0,
      "outputs": [
        {
          "output_type": "stream",
          "text": [
            "Model: \"sequential_5\"\n",
            "_________________________________________________________________\n",
            "Layer (type)                 Output Shape              Param #   \n",
            "=================================================================\n",
            "conv1d_9 (Conv1D)            (None, 40, 128)           768       \n",
            "_________________________________________________________________\n",
            "activation_13 (Activation)   (None, 40, 128)           0         \n",
            "_________________________________________________________________\n",
            "dropout_9 (Dropout)          (None, 40, 128)           0         \n",
            "_________________________________________________________________\n",
            "max_pooling1d_5 (MaxPooling1 (None, 5, 128)            0         \n",
            "_________________________________________________________________\n",
            "conv1d_10 (Conv1D)           (None, 5, 128)            82048     \n",
            "_________________________________________________________________\n",
            "activation_14 (Activation)   (None, 5, 128)            0         \n",
            "_________________________________________________________________\n",
            "dropout_10 (Dropout)         (None, 5, 128)            0         \n",
            "_________________________________________________________________\n",
            "flatten_5 (Flatten)          (None, 640)               0         \n",
            "_________________________________________________________________\n",
            "dense_5 (Dense)              (None, 8)                 5128      \n",
            "_________________________________________________________________\n",
            "activation_15 (Activation)   (None, 8)                 0         \n",
            "=================================================================\n",
            "Total params: 87,944\n",
            "Trainable params: 87,944\n",
            "Non-trainable params: 0\n",
            "_________________________________________________________________\n"
          ],
          "name": "stdout"
        }
      ]
    },
    {
      "cell_type": "code",
      "metadata": {
        "id": "k12r6KJJ6Chc",
        "colab_type": "code",
        "colab": {}
      },
      "source": [
        "#complie model \n",
        "model.compile(loss='sparse_categorical_crossentropy',\n",
        "              optimizer=opt,\n",
        "              metrics=['accuracy'])"
      ],
      "execution_count": 0,
      "outputs": []
    },
    {
      "cell_type": "code",
      "metadata": {
        "id": "p3St0i2X6PRg",
        "colab_type": "code",
        "colab": {}
      },
      "source": [
        "#fit model \n",
        "cnnhistory=model.fit(x_traincnn, y_train, batch_size=16, epochs=1000, validation_data=(x_testcnn, y_test))"
      ],
      "execution_count": 0,
      "outputs": []
    },
    {
      "cell_type": "markdown",
      "metadata": {
        "id": "oyKT6cBgASzo",
        "colab_type": "text"
      },
      "source": [
        "## Plot Accuracy & Loss"
      ]
    },
    {
      "cell_type": "code",
      "metadata": {
        "id": "ljdUppUc6RoL",
        "colab_type": "code",
        "outputId": "34eef410-05fd-43ce-8954-859ac7de0d82",
        "colab": {
          "base_uri": "https://localhost:8080/",
          "height": 295
        }
      },
      "source": [
        "#plot loss\n",
        "plt.plot(cnnhistory.history['loss'])\n",
        "plt.plot(cnnhistory.history['val_loss'])\n",
        "plt.title('model loss')\n",
        "plt.ylabel('loss')\n",
        "plt.xlabel('epoch')\n",
        "plt.legend(['train', 'test'], loc='upper right')\n",
        "plt.show()"
      ],
      "execution_count": 0,
      "outputs": [
        {
          "output_type": "display_data",
          "data": {
            "image/png": "[encoded data removed]",
            "text/plain": [
              "<Figure size 432x288 with 1 Axes>"
            ]
          },
          "metadata": {
            "tags": []
          }
        }
      ]
    },
    {
      "cell_type": "code",
      "metadata": {
        "id": "qsv4_AF19Ub7",
        "colab_type": "code",
        "outputId": "3b99188f-e2fa-47c5-b908-cbe0e3a86949",
        "colab": {
          "base_uri": "https://localhost:8080/",
          "height": 295
        }
      },
      "source": [
        "#plot accuracy \n",
        "plt.plot(cnnhistory.history['acc'])\n",
        "plt.plot(cnnhistory.history['val_acc'])\n",
        "plt.title('model accuracy')\n",
        "plt.ylabel('acc')\n",
        "plt.xlabel('epoch')\n",
        "plt.legend(['train', 'test'], loc='upper left')\n",
        "plt.show()"
      ],
      "execution_count": 0,
      "outputs": [
        {
          "output_type": "display_data",
          "data": {
            "image/png": "[encoded data removed]",
            "text/plain": [
              "<Figure size 432x288 with 1 Axes>"
            ]
          },
          "metadata": {
            "tags": []
          }
        }
      ]
    },
    {
      "cell_type": "markdown",
      "metadata": {
        "id": "LolSeaa6BV4N",
        "colab_type": "text"
      },
      "source": [
        "## Predictions & Classification Report"
      ]
    },
    {
      "cell_type": "markdown",
      "metadata": {
        "id": "6dYufxj6-C-3",
        "colab_type": "text"
      },
      "source": [
        "* Create a variable predictions that will contain the model.predict_classes outcome\n",
        "* Convert our y_test (array of strings with our classes) to an array of int called new_Ytest, otherwise it will not be comparable to the predictions by the classification report."
      ]
    },
    {
      "cell_type": "code",
      "metadata": {
        "id": "h56EMS319r4C",
        "colab_type": "code",
        "outputId": "0d4d824f-bb01-4b8d-c7cf-d9317ff722d0",
        "colab": {
          "base_uri": "https://localhost:8080/",
          "height": 34
        }
      },
      "source": [
        "#print predictions\n",
        "predictions=model.predict_classes(x_testcnn)\n",
        "predictions"
      ],
      "execution_count": 0,
      "outputs": [
        {
          "output_type": "execute_result",
          "data": {
            "text/plain": [
              "array([1, 4, 3, ..., 1, 4, 0])"
            ]
          },
          "metadata": {
            "tags": []
          },
          "execution_count": 129
        }
      ]
    },
    {
      "cell_type": "code",
      "metadata": {
        "id": "s-wLYt_9-Lsj",
        "colab_type": "code",
        "outputId": "e0415428-a58a-4abf-8dfb-1709f18b0eef",
        "colab": {
          "base_uri": "https://localhost:8080/",
          "height": 34
        }
      },
      "source": [
        "#need to convert y-test to int\n",
        "y_test"
      ],
      "execution_count": 0,
      "outputs": [
        {
          "output_type": "execute_result",
          "data": {
            "text/plain": [
              "array([1, 4, 3, ..., 1, 4, 0])"
            ]
          },
          "metadata": {
            "tags": []
          },
          "execution_count": 130
        }
      ]
    },
    {
      "cell_type": "code",
      "metadata": {
        "id": "mLo5-bKA-PbM",
        "colab_type": "code",
        "outputId": "e6163a30-d1f3-4cac-934e-959328c8801c",
        "colab": {
          "base_uri": "https://localhost:8080/",
          "height": 34
        }
      },
      "source": [
        "#convert y-test to int\n",
        "new_Ytest=y_test.astype(int)\n",
        "new_Ytest"
      ],
      "execution_count": 0,
      "outputs": [
        {
          "output_type": "execute_result",
          "data": {
            "text/plain": [
              "array([1, 4, 3, ..., 1, 4, 0])"
            ]
          },
          "metadata": {
            "tags": []
          },
          "execution_count": 131
        }
      ]
    },
    {
      "cell_type": "code",
      "metadata": {
        "id": "KPeRHtCu-V1q",
        "colab_type": "code",
        "outputId": "632d18be-b0da-4d53-a93d-20b091e6d058",
        "colab": {
          "base_uri": "https://localhost:8080/",
          "height": 272
        }
      },
      "source": [
        "#now do classification report \n",
        "report = classification_report(new_Ytest, predictions)\n",
        "print(report)"
      ],
      "execution_count": 0,
      "outputs": [
        {
          "output_type": "stream",
          "text": [
            "              precision    recall  f1-score   support\n",
            "\n",
            "           0       0.94      0.90      0.92       134\n",
            "           1       0.99      0.91      0.95       251\n",
            "           2       0.90      0.90      0.90       242\n",
            "           3       0.84      0.90      0.87       271\n",
            "           4       0.93      0.95      0.94       253\n",
            "           5       0.91      0.92      0.91       239\n",
            "           6       0.97      0.92      0.94       127\n",
            "           7       0.85      0.90      0.87       116\n",
            "\n",
            "    accuracy                           0.91      1633\n",
            "   macro avg       0.92      0.91      0.91      1633\n",
            "weighted avg       0.92      0.91      0.91      1633\n",
            "\n"
          ],
          "name": "stdout"
        }
      ]
    },
    {
      "cell_type": "markdown",
      "metadata": {
        "id": "WrAR9moqBfkG",
        "colab_type": "text"
      },
      "source": [
        "## Save Model & Weights"
      ]
    },
    {
      "cell_type": "code",
      "metadata": {
        "id": "917Z3SjJ-dT_",
        "colab_type": "code",
        "outputId": "3d5eb70a-1860-4c6c-856a-2b5afc4a0b46",
        "colab": {
          "base_uri": "https://localhost:8080/",
          "height": 54
        }
      },
      "source": [
        "# save model \n",
        "model_name = 'Emotion_Voice_Detection_Model.h5'\n",
        "save_dir = '/content/drive/My Drive/Ravdess_model'\n",
        "\n",
        "# Save model and weights\n",
        "if not os.path.isdir(save_dir):\n",
        "    os.makedirs(save_dir)\n",
        "model_path = os.path.join(save_dir, model_name)\n",
        "model.save(model_path)\n",
        "print('Saved trained model at %s ' % model_path)"
      ],
      "execution_count": 0,
      "outputs": [
        {
          "output_type": "stream",
          "text": [
            "Saved trained model at /content/drive/My Drive/Ravdess_model/Emotion_Voice_Detection_Model.h5 \n"
          ],
          "name": "stdout"
        }
      ]
    },
    {
      "cell_type": "markdown",
      "metadata": {
        "id": "lp9AD5xb_wv-",
        "colab_type": "text"
      },
      "source": [
        "## BEGIN HERE: Import trained model\n",
        "After mounting drive, importing libraries, load librosa & MFCSS data, train/test split, and train/test cnn, can begin here directly."
      ]
    },
    {
      "cell_type": "code",
      "metadata": {
        "id": "44csUR2O-kp8",
        "colab_type": "code",
        "outputId": "fb7b726a-9a1e-4fdc-f86c-5af0b96754db",
        "colab": {
          "base_uri": "https://localhost:8080/",
          "height": 1000
        }
      },
      "source": [
        "#reload model to test it\n",
        "loaded_model = keras.models.load_model('/content/drive/My Drive/Ravdess_model/Emotion_Voice_Detection_Model.h5')\n",
        "loaded_model.summary()"
      ],
      "execution_count": 8,
      "outputs": [
        {
          "output_type": "stream",
          "text": [
            "WARNING:tensorflow:From /usr/local/lib/python3.6/dist-packages/keras/backend/tensorflow_backend.py:541: The name tf.placeholder is deprecated. Please use tf.compat.v1.placeholder instead.\n",
            "\n",
            "WARNING:tensorflow:From /usr/local/lib/python3.6/dist-packages/keras/backend/tensorflow_backend.py:4432: The name tf.random_uniform is deprecated. Please use tf.random.uniform instead.\n",
            "\n",
            "WARNING:tensorflow:From /usr/local/lib/python3.6/dist-packages/keras/backend/tensorflow_backend.py:66: The name tf.get_default_graph is deprecated. Please use tf.compat.v1.get_default_graph instead.\n",
            "\n",
            "WARNING:tensorflow:From /usr/local/lib/python3.6/dist-packages/keras/backend/tensorflow_backend.py:148: The name tf.placeholder_with_default is deprecated. Please use tf.compat.v1.placeholder_with_default instead.\n",
            "\n",
            "WARNING:tensorflow:From /usr/local/lib/python3.6/dist-packages/keras/backend/tensorflow_backend.py:3733: calling dropout (from tensorflow.python.ops.nn_ops) with keep_prob is deprecated and will be removed in a future version.\n",
            "Instructions for updating:\n",
            "Please use `rate` instead of `keep_prob`. Rate should be set to `rate = 1 - keep_prob`.\n",
            "WARNING:tensorflow:From /usr/local/lib/python3.6/dist-packages/keras/backend/tensorflow_backend.py:4267: The name tf.nn.max_pool is deprecated. Please use tf.nn.max_pool2d instead.\n",
            "\n",
            "WARNING:tensorflow:From /usr/local/lib/python3.6/dist-packages/keras/backend/tensorflow_backend.py:190: The name tf.get_default_session is deprecated. Please use tf.compat.v1.get_default_session instead.\n",
            "\n",
            "WARNING:tensorflow:From /usr/local/lib/python3.6/dist-packages/keras/backend/tensorflow_backend.py:197: The name tf.ConfigProto is deprecated. Please use tf.compat.v1.ConfigProto instead.\n",
            "\n",
            "WARNING:tensorflow:From /usr/local/lib/python3.6/dist-packages/keras/backend/tensorflow_backend.py:203: The name tf.Session is deprecated. Please use tf.compat.v1.Session instead.\n",
            "\n",
            "WARNING:tensorflow:From /usr/local/lib/python3.6/dist-packages/keras/backend/tensorflow_backend.py:207: The name tf.global_variables is deprecated. Please use tf.compat.v1.global_variables instead.\n",
            "\n",
            "WARNING:tensorflow:From /usr/local/lib/python3.6/dist-packages/keras/backend/tensorflow_backend.py:216: The name tf.is_variable_initialized is deprecated. Please use tf.compat.v1.is_variable_initialized instead.\n",
            "\n",
            "WARNING:tensorflow:From /usr/local/lib/python3.6/dist-packages/keras/backend/tensorflow_backend.py:223: The name tf.variables_initializer is deprecated. Please use tf.compat.v1.variables_initializer instead.\n",
            "\n",
            "WARNING:tensorflow:From /usr/local/lib/python3.6/dist-packages/keras/optimizers.py:793: The name tf.train.Optimizer is deprecated. Please use tf.compat.v1.train.Optimizer instead.\n",
            "\n",
            "WARNING:tensorflow:From /usr/local/lib/python3.6/dist-packages/keras/backend/tensorflow_backend.py:3622: The name tf.log is deprecated. Please use tf.math.log instead.\n",
            "\n",
            "WARNING:tensorflow:From /usr/local/lib/python3.6/dist-packages/tensorflow_core/python/ops/math_grad.py:1424: where (from tensorflow.python.ops.array_ops) is deprecated and will be removed in a future version.\n",
            "Instructions for updating:\n",
            "Use tf.where in 2.0, which has the same broadcast rule as np.where\n",
            "WARNING:tensorflow:From /usr/local/lib/python3.6/dist-packages/keras/backend/tensorflow_backend.py:1033: The name tf.assign_add is deprecated. Please use tf.compat.v1.assign_add instead.\n",
            "\n",
            "WARNING:tensorflow:From /usr/local/lib/python3.6/dist-packages/keras/backend/tensorflow_backend.py:1020: The name tf.assign is deprecated. Please use tf.compat.v1.assign instead.\n",
            "\n",
            "Model: \"sequential_5\"\n",
            "_________________________________________________________________\n",
            "Layer (type)                 Output Shape              Param #   \n",
            "=================================================================\n",
            "conv1d_9 (Conv1D)            (None, 40, 128)           768       \n",
            "_________________________________________________________________\n",
            "activation_13 (Activation)   (None, 40, 128)           0         \n",
            "_________________________________________________________________\n",
            "dropout_9 (Dropout)          (None, 40, 128)           0         \n",
            "_________________________________________________________________\n",
            "max_pooling1d_5 (MaxPooling1 (None, 5, 128)            0         \n",
            "_________________________________________________________________\n",
            "conv1d_10 (Conv1D)           (None, 5, 128)            82048     \n",
            "_________________________________________________________________\n",
            "activation_14 (Activation)   (None, 5, 128)            0         \n",
            "_________________________________________________________________\n",
            "dropout_10 (Dropout)         (None, 5, 128)            0         \n",
            "_________________________________________________________________\n",
            "flatten_5 (Flatten)          (None, 640)               0         \n",
            "_________________________________________________________________\n",
            "dense_5 (Dense)              (None, 8)                 5128      \n",
            "_________________________________________________________________\n",
            "activation_15 (Activation)   (None, 8)                 0         \n",
            "=================================================================\n",
            "Total params: 87,944\n",
            "Trainable params: 87,944\n",
            "Non-trainable params: 0\n",
            "_________________________________________________________________\n"
          ],
          "name": "stdout"
        }
      ]
    },
    {
      "cell_type": "code",
      "metadata": {
        "id": "PQlf4m3p-n2C",
        "colab_type": "code",
        "outputId": "faacc31c-a572-402e-ef01-c1dbcb8eede8",
        "colab": {
          "base_uri": "https://localhost:8080/",
          "height": 51
        }
      },
      "source": [
        "#check acc of model\n",
        "loss, acc = loaded_model.evaluate(x_testcnn, y_test)\n",
        "print(\"Restored model, accuracy: {:5.2f}%\".format(100*acc))"
      ],
      "execution_count": 13,
      "outputs": [
        {
          "output_type": "stream",
          "text": [
            "1633/1633 [==============================] - 3s 2ms/step\n",
            "Restored model, accuracy: 91.30%\n"
          ],
          "name": "stdout"
        }
      ]
    },
    {
      "cell_type": "markdown",
      "metadata": {
        "id": "M298ay4SBqLq",
        "colab_type": "text"
      },
      "source": [
        "## Predictions "
      ]
    },
    {
      "cell_type": "code",
      "metadata": {
        "id": "DvrpRG1bAUPW",
        "colab_type": "code",
        "colab": {}
      },
      "source": [
        "#define functions for making predictions\n",
        "class livePredictions:\n",
        "\n",
        "    def __init__(self, path, file):\n",
        "\n",
        "        self.path = path\n",
        "        self.file = file\n",
        "\n",
        "    def load_model(self):\n",
        "        '''\n",
        "        I am here to load you model.\n",
        "        :param path: path to your h5 model.\n",
        "        :return: summary of the model with the .summary() function.\n",
        "        '''\n",
        "        self.loaded_model = keras.models.load_model(self.path)\n",
        "        return self.loaded_model.summary()\n",
        "\n",
        "    def makepredictions(self):\n",
        "        '''\n",
        "        I am here to process the files and create your features.\n",
        "        '''\n",
        "        data, sampling_rate = librosa.load(self.file)\n",
        "        mfccs = np.mean(librosa.feature.mfcc(y=data, sr=sampling_rate, n_mfcc=40).T, axis=0)\n",
        "        x = np.expand_dims(mfccs, axis=2)\n",
        "        x = np.expand_dims(x, axis=0)\n",
        "        predictions = self.loaded_model.predict_classes(x)\n",
        "        print( \"Prediction is\", \" \", self.convertclasstoemotion(predictions))\n",
        "\n",
        "    def convertclasstoemotion(self, pred):\n",
        "        '''\n",
        "        I am here to convert the predictions (int) into human readable strings.\n",
        "        '''\n",
        "        self.pred  = pred\n",
        "\n",
        "        if pred == 0:\n",
        "            pred = \"neutral\"\n",
        "            return pred\n",
        "        elif pred == 1:\n",
        "            pred = \"calm\"\n",
        "            return pred\n",
        "        elif pred == 2:\n",
        "            pred = \"happy\"\n",
        "            return pred\n",
        "        elif pred == 3:\n",
        "            pred = \"sad\"\n",
        "            return pred\n",
        "        elif pred == 4:\n",
        "            pred = \"angry\"\n",
        "            return pred\n",
        "        elif pred == 5:\n",
        "            pred = \"fearful\"\n",
        "            return pred\n",
        "        elif pred == 6:\n",
        "            pred = \"disgust\"\n",
        "            return pred\n",
        "        elif pred == 7:\n",
        "            pred = \"surprised\"\n",
        "            return pred\n",
        "\n",
        "# Here you can replace path and file with the path of your model and of the file from the RAVDESS dataset you want to use for the prediction,\n",
        "# Below, I have used a neutral file: the prediction made is neutral.\n"
      ],
      "execution_count": 0,
      "outputs": []
    },
    {
      "cell_type": "code",
      "metadata": {
        "id": "Ep3izwWjBsEY",
        "colab_type": "code",
        "outputId": "6c61d6a2-b205-4326-c98e-09a29a8af032",
        "colab": {
          "base_uri": "https://localhost:8080/",
          "height": 547
        }
      },
      "source": [
        "pred = livePredictions(path='/content/drive/My Drive/Ravdess_model/Emotion_Voice_Detection_Model.h5',\n",
        "                       file='/content/drive/My Drive/Ravdess/03-01-05-01-01-01-24.wav')\n",
        "\n",
        "pred.load_model()\n",
        "pred.makepredictions()"
      ],
      "execution_count": 33,
      "outputs": [
        {
          "output_type": "stream",
          "text": [
            "Model: \"sequential_5\"\n",
            "_________________________________________________________________\n",
            "Layer (type)                 Output Shape              Param #   \n",
            "=================================================================\n",
            "conv1d_9 (Conv1D)            (None, 40, 128)           768       \n",
            "_________________________________________________________________\n",
            "activation_13 (Activation)   (None, 40, 128)           0         \n",
            "_________________________________________________________________\n",
            "dropout_9 (Dropout)          (None, 40, 128)           0         \n",
            "_________________________________________________________________\n",
            "max_pooling1d_5 (MaxPooling1 (None, 5, 128)            0         \n",
            "_________________________________________________________________\n",
            "conv1d_10 (Conv1D)           (None, 5, 128)            82048     \n",
            "_________________________________________________________________\n",
            "activation_14 (Activation)   (None, 5, 128)            0         \n",
            "_________________________________________________________________\n",
            "dropout_10 (Dropout)         (None, 5, 128)            0         \n",
            "_________________________________________________________________\n",
            "flatten_5 (Flatten)          (None, 640)               0         \n",
            "_________________________________________________________________\n",
            "dense_5 (Dense)              (None, 8)                 5128      \n",
            "_________________________________________________________________\n",
            "activation_15 (Activation)   (None, 8)                 0         \n",
            "=================================================================\n",
            "Total params: 87,944\n",
            "Trainable params: 87,944\n",
            "Non-trainable params: 0\n",
            "_________________________________________________________________\n"
          ],
          "name": "stdout"
        },
        {
          "output_type": "stream",
          "text": [
            "/usr/local/lib/python3.6/dist-packages/ipykernel_launcher.py:23: DeprecationWarning: Both axis > a.ndim and axis < -a.ndim - 1 are deprecated and will raise an AxisError in the future.\n"
          ],
          "name": "stderr"
        },
        {
          "output_type": "stream",
          "text": [
            "Prediction is   angry\n"
          ],
          "name": "stdout"
        }
      ]
    },
    {
      "cell_type": "code",
      "metadata": {
        "id": "Eyx9ItSa6-Jz",
        "colab_type": "code",
        "colab": {
          "base_uri": "https://localhost:8080/",
          "height": 547
        },
        "outputId": "8d1ae290-22ad-430c-df1c-15f92ba8dbbf"
      },
      "source": [
        "pred = livePredictions(path='/content/drive/My Drive/Ravdess_model/Emotion_Voice_Detection_Model.h5',\n",
        "                       file='kat_angry.wav')\n",
        "\n",
        "pred.load_model()\n",
        "pred.makepredictions()"
      ],
      "execution_count": 13,
      "outputs": [
        {
          "output_type": "stream",
          "text": [
            "Model: \"sequential_5\"\n",
            "_________________________________________________________________\n",
            "Layer (type)                 Output Shape              Param #   \n",
            "=================================================================\n",
            "conv1d_9 (Conv1D)            (None, 40, 128)           768       \n",
            "_________________________________________________________________\n",
            "activation_13 (Activation)   (None, 40, 128)           0         \n",
            "_________________________________________________________________\n",
            "dropout_9 (Dropout)          (None, 40, 128)           0         \n",
            "_________________________________________________________________\n",
            "max_pooling1d_5 (MaxPooling1 (None, 5, 128)            0         \n",
            "_________________________________________________________________\n",
            "conv1d_10 (Conv1D)           (None, 5, 128)            82048     \n",
            "_________________________________________________________________\n",
            "activation_14 (Activation)   (None, 5, 128)            0         \n",
            "_________________________________________________________________\n",
            "dropout_10 (Dropout)         (None, 5, 128)            0         \n",
            "_________________________________________________________________\n",
            "flatten_5 (Flatten)          (None, 640)               0         \n",
            "_________________________________________________________________\n",
            "dense_5 (Dense)              (None, 8)                 5128      \n",
            "_________________________________________________________________\n",
            "activation_15 (Activation)   (None, 8)                 0         \n",
            "=================================================================\n",
            "Total params: 87,944\n",
            "Trainable params: 87,944\n",
            "Non-trainable params: 0\n",
            "_________________________________________________________________\n"
          ],
          "name": "stdout"
        },
        {
          "output_type": "stream",
          "text": [
            "/usr/local/lib/python3.6/dist-packages/ipykernel_launcher.py:23: DeprecationWarning: Both axis > a.ndim and axis < -a.ndim - 1 are deprecated and will raise an AxisError in the future.\n"
          ],
          "name": "stderr"
        },
        {
          "output_type": "stream",
          "text": [
            "Prediction is   happy\n"
          ],
          "name": "stdout"
        }
      ]
    },
    {
      "cell_type": "markdown",
      "metadata": {
        "id": "r-E_GueEKuGT",
        "colab_type": "text"
      },
      "source": [
        "# Speech to Text\n",
        "\n",
        "A way to improve the predictions would be to take into account the words being spoken. Convert speech to text, then get sentiment of text.\n",
        "\n",
        "1. Convert speech to text\n",
        "2. Predict sentiment of text using gensim"
      ]
    },
    {
      "cell_type": "code",
      "metadata": {
        "id": "x2dKPB7xDfZq",
        "colab_type": "code",
        "colab": {}
      },
      "source": [
        "#import library \n",
        "import speech_recognition as sr\n",
        "from textblob import TextBlob\n",
        "\n",
        "#install package\n",
        "#! pip install SpeechRecognition "
      ],
      "execution_count": 0,
      "outputs": []
    },
    {
      "cell_type": "code",
      "metadata": {
        "id": "eBomSYOgLm6n",
        "colab_type": "code",
        "colab": {}
      },
      "source": [
        "#create recognizer class instace\n",
        "r = sr.Recognizer()"
      ],
      "execution_count": 0,
      "outputs": []
    },
    {
      "cell_type": "code",
      "metadata": {
        "id": "SVZGMqicL5m-",
        "colab_type": "code",
        "colab": {
          "base_uri": "https://localhost:8080/",
          "height": 51
        },
        "outputId": "732d216c-72ac-4bd3-a926-e59ec1bb10e0"
      },
      "source": [
        "#convert speech to text \n",
        "file_name = 'kat_angry.wav'\n",
        "sound_file = sr.AudioFile('kat_angry.wav')\n",
        "with sound_file as source:\n",
        "  audio = r.record(source)\n",
        "\n",
        "print(type(audio))\n",
        "text = r.recognize_google(audio)\n",
        "print(text)"
      ],
      "execution_count": 42,
      "outputs": [
        {
          "output_type": "stream",
          "text": [
            "<class 'speech_recognition.AudioData'>\n",
            "dogs are sitting by the door\n"
          ],
          "name": "stdout"
        }
      ]
    },
    {
      "cell_type": "code",
      "metadata": {
        "id": "bEY6Mz_Cr2ty",
        "colab_type": "code",
        "colab": {}
      },
      "source": [
        "#find sentiment of translated text\n",
        "def sentiment_score(text): \n",
        "  \"\"\"function returns sentiment score of text\n",
        "  0 - neutral, >0 - postive, <0 = negative\"\"\"\n",
        "  obj = TextBlob(text) \n",
        "  sentiment = obj.sentiment.polarity\n",
        "  return sentiment\n"
      ],
      "execution_count": 0,
      "outputs": []
    },
    {
      "cell_type": "code",
      "metadata": {
        "id": "dcTnhk_7r7hA",
        "colab_type": "code",
        "colab": {
          "base_uri": "https://localhost:8080/",
          "height": 34
        },
        "outputId": "fdad4300-9e20-47ca-a6fc-e89ad6d4f4fd"
      },
      "source": [
        "sentiment_score(input_text)"
      ],
      "execution_count": 49,
      "outputs": [
        {
          "output_type": "execute_result",
          "data": {
            "text/plain": [
              "0.45469696969696977"
            ]
          },
          "metadata": {
            "tags": []
          },
          "execution_count": 49
        }
      ]
    },
    {
      "cell_type": "code",
      "metadata": {
        "id": "vOybSSXr0jAE",
        "colab_type": "code",
        "colab": {}
      },
      "source": [
        ""
      ],
      "execution_count": 0,
      "outputs": []
    },
    {
      "cell_type": "code",
      "metadata": {
        "id": "VCzVhNGi0qXo",
        "colab_type": "code",
        "colab": {}
      },
      "source": [
        ""
      ],
      "execution_count": 0,
      "outputs": []
    }
  ]
}